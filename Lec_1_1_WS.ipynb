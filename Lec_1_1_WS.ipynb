{
  "nbformat": 4,
  "nbformat_minor": 0,
  "metadata": {
    "colab": {
      "provenance": []
    },
    "kernelspec": {
      "name": "python3",
      "display_name": "Python 3"
    },
    "language_info": {
      "name": "python"
    }
  },
  "cells": [
    {
      "cell_type": "markdown",
      "source": [
        "**1. Print Function**"
      ],
      "metadata": {
        "id": "RdCd3yk1lkis"
      }
    },
    {
      "cell_type": "markdown",
      "source": [
        "-- printting strings use \" \" , quotes"
      ],
      "metadata": {
        "id": "0UJV523klGlW"
      }
    },
    {
      "cell_type": "code",
      "execution_count": 1,
      "metadata": {
        "colab": {
          "base_uri": "https://localhost:8080/"
        },
        "id": "wAvArFPbkMfT",
        "outputId": "206a4315-d52e-49d9-f8f4-f3835dde91d0"
      },
      "outputs": [
        {
          "output_type": "stream",
          "name": "stdout",
          "text": [
            "Hello World!\n"
          ]
        }
      ],
      "source": [
        "print(\"Hello World!\")"
      ]
    },
    {
      "cell_type": "markdown",
      "source": [
        "-- Print your name."
      ],
      "metadata": {
        "id": "oM3DZTinkYtz"
      }
    },
    {
      "cell_type": "code",
      "source": [
        "print(22) #print a number like your age no need to use quotes"
      ],
      "metadata": {
        "colab": {
          "base_uri": "https://localhost:8080/"
        },
        "id": "RJ0vvOpOlSVi",
        "outputId": "6d9c3ee3-4d27-4243-be80-fb52b10189e3"
      },
      "execution_count": 3,
      "outputs": [
        {
          "output_type": "stream",
          "name": "stdout",
          "text": [
            "22\n"
          ]
        }
      ]
    },
    {
      "cell_type": "markdown",
      "source": [
        "**2. Data Types**"
      ],
      "metadata": {
        "id": "zbKEGcQqldns"
      }
    },
    {
      "cell_type": "markdown",
      "source": [
        "fucntion type()"
      ],
      "metadata": {
        "id": "NSWkrG4bmBb1"
      }
    },
    {
      "cell_type": "code",
      "source": [
        "x=10\n",
        "type(10)"
      ],
      "metadata": {
        "colab": {
          "base_uri": "https://localhost:8080/"
        },
        "id": "8icYqr49lbeh",
        "outputId": "29d3b8f9-7186-4035-8b3d-9ed0374f8523"
      },
      "execution_count": 4,
      "outputs": [
        {
          "output_type": "execute_result",
          "data": {
            "text/plain": [
              "int"
            ]
          },
          "metadata": {},
          "execution_count": 4
        }
      ]
    },
    {
      "cell_type": "markdown",
      "source": [
        "Integer is number without deciaml point."
      ],
      "metadata": {
        "id": "FO47Tqmpl3nZ"
      }
    },
    {
      "cell_type": "code",
      "source": [
        "y=4.5\n",
        "type(y)"
      ],
      "metadata": {
        "colab": {
          "base_uri": "https://localhost:8080/"
        },
        "id": "BbQ8svSblxuF",
        "outputId": "db729338-6b5f-453e-d74e-ab998475f549"
      },
      "execution_count": 5,
      "outputs": [
        {
          "output_type": "execute_result",
          "data": {
            "text/plain": [
              "float"
            ]
          },
          "metadata": {},
          "execution_count": 5
        }
      ]
    },
    {
      "cell_type": "markdown",
      "source": [
        "Float is number with decimal point."
      ],
      "metadata": {
        "id": "nb7NGpA-l630"
      }
    },
    {
      "cell_type": "code",
      "source": [
        "y=\"Tanya\"\n",
        "type(y)"
      ],
      "metadata": {
        "colab": {
          "base_uri": "https://localhost:8080/"
        },
        "id": "daIHGz8Il21I",
        "outputId": "de2d3f41-d677-4c8b-ab71-3949aae65a4b"
      },
      "execution_count": 6,
      "outputs": [
        {
          "output_type": "execute_result",
          "data": {
            "text/plain": [
              "str"
            ]
          },
          "metadata": {},
          "execution_count": 6
        }
      ]
    },
    {
      "cell_type": "markdown",
      "source": [
        "str means string that is text data type."
      ],
      "metadata": {
        "id": "wFN29JFtmPZF"
      }
    },
    {
      "cell_type": "code",
      "source": [
        "y = False\n",
        "type(y)"
      ],
      "metadata": {
        "colab": {
          "base_uri": "https://localhost:8080/"
        },
        "id": "CvH6mypemOkf",
        "outputId": "785e3a98-6dd4-43da-8c87-0eab6e837ca6"
      },
      "execution_count": 8,
      "outputs": [
        {
          "output_type": "execute_result",
          "data": {
            "text/plain": [
              "bool"
            ]
          },
          "metadata": {},
          "execution_count": 8
        }
      ]
    },
    {
      "cell_type": "markdown",
      "source": [
        "bool means boolean;  a form of data with only two possible values (usually \"true\" and \"false\")"
      ],
      "metadata": {
        "id": "im9jjYVkmfRD"
      }
    },
    {
      "cell_type": "code",
      "source": [
        "#Data types that will be useful for us most of the time in Data Science\n",
        "int\n",
        "float\n",
        "string\n",
        "bool  True , False"
      ],
      "metadata": {
        "id": "frprmq05ma9G"
      },
      "execution_count": null,
      "outputs": []
    }
  ]
}